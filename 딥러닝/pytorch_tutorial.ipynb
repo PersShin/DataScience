{
 "cells": [
  {
   "cell_type": "markdown",
   "id": "38dcd741",
   "metadata": {},
   "source": [
    "# Pytorch Tutorial"
   ]
  },
  {
   "cell_type": "code",
   "execution_count": 1,
   "id": "123d40fb",
   "metadata": {},
   "outputs": [],
   "source": [
    "import torch\n",
    "import numpy as np"
   ]
  },
  {
   "cell_type": "markdown",
   "id": "0f47c5ed",
   "metadata": {},
   "source": [
    "### 1. Numpy Compatibility"
   ]
  },
  {
   "cell_type": "code",
   "execution_count": 2,
   "id": "c160398b",
   "metadata": {},
   "outputs": [],
   "source": [
    "#pytorch is really similar with numpy\n",
    "#Could convert numpy to torch or torch to numpy easily\n",
    "torch_tensor=torch.FloatTensor([1,2])\n",
    "numpy_array=np.array([[1,2],[3,4],[5,6]])"
   ]
  },
  {
   "cell_type": "code",
   "execution_count": 3,
   "id": "62dd914b",
   "metadata": {},
   "outputs": [
    {
     "name": "stdout",
     "output_type": "stream",
     "text": [
      "tensor([1., 2.])\n",
      "[[1 2]\n",
      " [3 4]\n",
      " [5 6]]\n"
     ]
    }
   ],
   "source": [
    "print(torch_tensor)\n",
    "print(numpy_array)"
   ]
  },
  {
   "cell_type": "code",
   "execution_count": 4,
   "id": "7d36c5e0",
   "metadata": {},
   "outputs": [
    {
     "data": {
      "text/plain": [
       "tensor([[1, 2],\n",
       "        [3, 4],\n",
       "        [5, 6]], dtype=torch.int32)"
      ]
     },
     "execution_count": 4,
     "metadata": {},
     "output_type": "execute_result"
    }
   ],
   "source": [
    "torch_tensor=torch.from_numpy(numpy_array)\n",
    "torch_tensor"
   ]
  },
  {
   "cell_type": "code",
   "execution_count": 5,
   "id": "86c62ccb",
   "metadata": {},
   "outputs": [
    {
     "data": {
      "text/plain": [
       "array([[1, 2],\n",
       "       [3, 4],\n",
       "       [5, 6]])"
      ]
     },
     "execution_count": 5,
     "metadata": {},
     "output_type": "execute_result"
    }
   ],
   "source": [
    "torch_tensor.numpy()"
   ]
  },
  {
   "cell_type": "markdown",
   "id": "f7a1046f",
   "metadata": {},
   "source": [
    "### 2. Get Shape"
   ]
  },
  {
   "cell_type": "code",
   "execution_count": 6,
   "id": "78bb9201",
   "metadata": {},
   "outputs": [
    {
     "data": {
      "text/plain": [
       "torch.Size([3, 2])"
      ]
     },
     "execution_count": 6,
     "metadata": {},
     "output_type": "execute_result"
    }
   ],
   "source": [
    "#We can use size() or shape. It will come out with the same result\n",
    "torch_tensor.size()"
   ]
  },
  {
   "cell_type": "code",
   "execution_count": 7,
   "id": "c6803da3",
   "metadata": {},
   "outputs": [
    {
     "data": {
      "text/plain": [
       "torch.Size([3, 2])"
      ]
     },
     "execution_count": 7,
     "metadata": {},
     "output_type": "execute_result"
    }
   ],
   "source": [
    "torch_tensor.shape"
   ]
  },
  {
   "cell_type": "markdown",
   "id": "44af864f",
   "metadata": {},
   "source": [
    "### 3. Type-Casting"
   ]
  },
  {
   "cell_type": "code",
   "execution_count": 8,
   "id": "e317d0f1",
   "metadata": {},
   "outputs": [
    {
     "data": {
      "text/plain": [
       "tensor([[1, 2],\n",
       "        [3, 4],\n",
       "        [5, 6]], dtype=torch.int32)"
      ]
     },
     "execution_count": 8,
     "metadata": {},
     "output_type": "execute_result"
    }
   ],
   "source": [
    "#Just type any type that we want and add () at the end\n",
    "#This code is from float to int\n",
    "torch_tensor.int()"
   ]
  },
  {
   "cell_type": "markdown",
   "id": "11c74579",
   "metadata": {},
   "source": [
    "### 4. Inplace"
   ]
  },
  {
   "cell_type": "code",
   "execution_count": 9,
   "id": "9bdba5fe",
   "metadata": {},
   "outputs": [
    {
     "data": {
      "text/plain": [
       "tensor([[1, 2],\n",
       "        [3, 4],\n",
       "        [5, 6]], dtype=torch.int32)"
      ]
     },
     "execution_count": 9,
     "metadata": {},
     "output_type": "execute_result"
    }
   ],
   "source": [
    "#We can use _ for inplace=True. (same as pandas.drop(inplace=True))\n",
    "torch_tensor.mul(torch_tensor)\n",
    "torch_tensor"
   ]
  },
  {
   "cell_type": "code",
   "execution_count": 10,
   "id": "1a951426",
   "metadata": {},
   "outputs": [
    {
     "data": {
      "text/plain": [
       "tensor([[ 1,  4],\n",
       "        [ 9, 16],\n",
       "        [25, 36]], dtype=torch.int32)"
      ]
     },
     "execution_count": 10,
     "metadata": {},
     "output_type": "execute_result"
    }
   ],
   "source": [
    "torch_tensor.mul_(torch_tensor)\n",
    "torch_tensor"
   ]
  },
  {
   "cell_type": "markdown",
   "id": "269cbd71",
   "metadata": {},
   "source": [
    "### 5. Reshape"
   ]
  },
  {
   "cell_type": "code",
   "execution_count": 11,
   "id": "e18b8c06",
   "metadata": {},
   "outputs": [
    {
     "name": "stdout",
     "output_type": "stream",
     "text": [
      "tensor([ 1,  4,  9, 16, 25, 36], dtype=torch.int32)\n",
      "tensor([[ 1,  4],\n",
      "        [ 9, 16],\n",
      "        [25, 36]], dtype=torch.int32)\n"
     ]
    }
   ],
   "source": [
    "#Same as pandas or numpy\n",
    "new_torch_tensor=torch_tensor.reshape(-1)\n",
    "print(new_torch_tensor)\n",
    "print(torch_tensor)"
   ]
  },
  {
   "cell_type": "code",
   "execution_count": 12,
   "id": "0d3c54e3",
   "metadata": {},
   "outputs": [
    {
     "name": "stdout",
     "output_type": "stream",
     "text": [
      "tensor([ 1,  4,  9, 16, 25, 36], dtype=torch.int32)\n",
      "tensor([[ 1,  4],\n",
      "        [ 9, 16],\n",
      "        [25, 36]], dtype=torch.int32)\n"
     ]
    }
   ],
   "source": [
    "#(수정예정)view is also same as reshape func, but the differance between these two is that view changes the shape of the original tensor and reshape doesn't\n",
    "#contiguous+view=reshape\n",
    "new_torch_tensor=torch_tensor.view(-1)\n",
    "print(new_torch_tensor)\n",
    "print(torch_tensor)"
   ]
  },
  {
   "cell_type": "markdown",
   "id": "e22132de",
   "metadata": {},
   "source": [
    "### 6. Slicing"
   ]
  },
  {
   "cell_type": "code",
   "execution_count": 13,
   "id": "7a1c8717",
   "metadata": {},
   "outputs": [
    {
     "name": "stdout",
     "output_type": "stream",
     "text": [
      "torch.Size([4, 4])\n",
      "torch.Size([4, 4])\n",
      "torch.Size([2, 4])\n"
     ]
    }
   ],
   "source": [
    "#splitting data size for dimesion0\n",
    "#if alpha%split!=0 just print the leftover at the last cell\n",
    "#in this case 10%4==2\n",
    "x=torch.FloatTensor(10,4)\n",
    "splits=x.split(4,dim=0)\n",
    "for i in splits:\n",
    "    print(i.size())"
   ]
  },
  {
   "cell_type": "code",
   "execution_count": 14,
   "id": "5a2a449b",
   "metadata": {},
   "outputs": [
    {
     "name": "stdout",
     "output_type": "stream",
     "text": [
      "torch.Size([3, 4])\n",
      "torch.Size([3, 4])\n",
      "torch.Size([3, 4])\n",
      "torch.Size([1, 4])\n"
     ]
    }
   ],
   "source": [
    "#chunk is different from split\n",
    "#chunk uses the index to split into n dimension\n",
    "#in this case 4 dimension\n",
    "x=torch.FloatTensor(10,4)\n",
    "splits=x.chunk(4,dim=0)\n",
    "for i in splits:\n",
    "    print(i.size())"
   ]
  },
  {
   "cell_type": "markdown",
   "id": "8db3ed11",
   "metadata": {},
   "source": [
    "### 7. Indice_select"
   ]
  },
  {
   "cell_type": "code",
   "execution_count": 15,
   "id": "0d6994db",
   "metadata": {},
   "outputs": [],
   "source": [
    "#(예정)"
   ]
  },
  {
   "cell_type": "markdown",
   "id": "41622518",
   "metadata": {},
   "source": [
    "### 8. Cat"
   ]
  },
  {
   "cell_type": "code",
   "execution_count": 16,
   "id": "e3cbd834",
   "metadata": {},
   "outputs": [
    {
     "name": "stdout",
     "output_type": "stream",
     "text": [
      "torch.Size([2, 3])\n",
      "torch.Size([2, 3])\n",
      "tensor([[ 1.,  2.,  3.],\n",
      "        [ 4.,  5.,  6.],\n",
      "        [ 7.,  8.,  9.],\n",
      "        [10., 11., 12.]])\n",
      "torch.Size([4, 3])\n"
     ]
    }
   ],
   "source": [
    "x=torch.FloatTensor([[1,2,3],\n",
    "                   [4,5,6]])\n",
    "y=torch.FloatTensor([[7,8,9],[10,11,12]])\n",
    "z=torch.cat([x,y],dim=0)\n",
    "print(x.size())\n",
    "print(y.size())\n",
    "print(z)\n",
    "print(z.size())"
   ]
  },
  {
   "cell_type": "markdown",
   "id": "d7335442",
   "metadata": {},
   "source": [
    "### 9. Stack"
   ]
  },
  {
   "cell_type": "code",
   "execution_count": 17,
   "id": "02700d22",
   "metadata": {},
   "outputs": [
    {
     "name": "stdout",
     "output_type": "stream",
     "text": [
      "torch.Size([2, 3])\n",
      "torch.Size([2, 3])\n",
      "tensor([[[ 1.,  2.,  3.],\n",
      "         [ 4.,  5.,  6.]],\n",
      "\n",
      "        [[ 7.,  8.,  9.],\n",
      "         [10., 11., 12.]]])\n",
      "torch.Size([2, 2, 3])\n"
     ]
    }
   ],
   "source": [
    "z=torch.stack([x,y],dim=0)\n",
    "print(x.size())\n",
    "print(y.size())\n",
    "print(z)\n",
    "print(z.size())"
   ]
  },
  {
   "cell_type": "code",
   "execution_count": 18,
   "id": "9579af16",
   "metadata": {},
   "outputs": [
    {
     "name": "stdout",
     "output_type": "stream",
     "text": [
      "torch.Size([2, 3])\n",
      "torch.Size([2, 3])\n",
      "tensor([[[ 1.,  7.],\n",
      "         [ 2.,  8.],\n",
      "         [ 3.,  9.]],\n",
      "\n",
      "        [[ 4., 10.],\n",
      "         [ 5., 11.],\n",
      "         [ 6., 12.]]])\n",
      "torch.Size([2, 3, 2])\n"
     ]
    }
   ],
   "source": [
    "z=torch.stack([x,y],dim=-1)\n",
    "print(x.size())\n",
    "print(y.size())\n",
    "print(z)\n",
    "print(z.size())"
   ]
  },
  {
   "cell_type": "code",
   "execution_count": 19,
   "id": "835ce804",
   "metadata": {},
   "outputs": [
    {
     "name": "stdout",
     "output_type": "stream",
     "text": [
      "[tensor([[1.4013e-45, 0.0000e+00],\n",
      "        [0.0000e+00, 0.0000e+00]]), tensor([[1.4013e-45, 0.0000e+00],\n",
      "        [0.0000e+00, 0.0000e+00]]), tensor([[ 0.0000, 18.9802],\n",
      "        [ 0.0000,  0.0000]]), tensor([[1.4013e-45, 0.0000e+00],\n",
      "        [0.0000e+00, 0.0000e+00]]), tensor([[9.1477e-41,        nan],\n",
      "        [6.7262e-44, 0.0000e+00]])]\n"
     ]
    },
    {
     "data": {
      "text/plain": [
       "torch.Size([5, 2, 2])"
      ]
     },
     "execution_count": 19,
     "metadata": {},
     "output_type": "execute_result"
    }
   ],
   "source": [
    "#useful situation for y(hat)\n",
    "result=[]\n",
    "for i in range(5):\n",
    "    x=torch.FloatTensor(2,2)\n",
    "    result+=[x]\n",
    "print(result)\n",
    "result=torch.stack(result)\n",
    "result.size()"
   ]
  },
  {
   "cell_type": "markdown",
   "id": "3ddee1b5",
   "metadata": {},
   "source": [
    "### 10. Expand"
   ]
  },
  {
   "cell_type": "code",
   "execution_count": 20,
   "id": "30bf81b5",
   "metadata": {},
   "outputs": [
    {
     "name": "stdout",
     "output_type": "stream",
     "text": [
      "torch.Size([2, 1, 2])\n"
     ]
    }
   ],
   "source": [
    "x=torch.FloatTensor([[[1,2]],[[3,4]]])\n",
    "print(x.size())"
   ]
  },
  {
   "cell_type": "code",
   "execution_count": 21,
   "id": "6ed88294",
   "metadata": {},
   "outputs": [
    {
     "name": "stdout",
     "output_type": "stream",
     "text": [
      "torch.Size([2, 3, 2])\n",
      "tensor([[[1., 2.],\n",
      "         [1., 2.],\n",
      "         [1., 2.]],\n",
      "\n",
      "        [[3., 4.],\n",
      "         [3., 4.],\n",
      "         [3., 4.]]])\n"
     ]
    }
   ],
   "source": [
    "y=x.expand(*[2,3,2])\n",
    "print(y.size())\n",
    "print(y)"
   ]
  },
  {
   "cell_type": "markdown",
   "id": "278c2e8c",
   "metadata": {},
   "source": [
    "#### Using cat"
   ]
  },
  {
   "cell_type": "code",
   "execution_count": 22,
   "id": "59ea8df2",
   "metadata": {},
   "outputs": [
    {
     "name": "stdout",
     "output_type": "stream",
     "text": [
      "torch.Size([2, 3, 2])\n",
      "tensor([[[1., 2.],\n",
      "         [1., 2.],\n",
      "         [1., 2.]],\n",
      "\n",
      "        [[3., 4.],\n",
      "         [3., 4.],\n",
      "         [3., 4.]]])\n"
     ]
    }
   ],
   "source": [
    "y=torch.cat([x,x,x],dim=1)\n",
    "print(y.size())\n",
    "print(y)"
   ]
  },
  {
   "cell_type": "markdown",
   "id": "bb5aaebf",
   "metadata": {},
   "source": [
    "### 11. Max"
   ]
  },
  {
   "cell_type": "code",
   "execution_count": 23,
   "id": "4d6ed772",
   "metadata": {},
   "outputs": [
    {
     "data": {
      "text/plain": [
       "tensor([[[17,  0, 16],\n",
       "         [26, 11,  4],\n",
       "         [ 6, 20, 18]],\n",
       "\n",
       "        [[ 3, 22, 25],\n",
       "         [24,  8,  9],\n",
       "         [ 2,  7, 15]],\n",
       "\n",
       "        [[13, 19, 21],\n",
       "         [12,  1, 10],\n",
       "         [ 5, 23, 14]]])"
      ]
     },
     "execution_count": 23,
     "metadata": {},
     "output_type": "execute_result"
    }
   ],
   "source": [
    "x=torch.randperm(3**3) #(27,1)\n",
    "x=x.reshape([3,3,-1])\n",
    "x"
   ]
  },
  {
   "cell_type": "code",
   "execution_count": 24,
   "id": "403d4a08",
   "metadata": {},
   "outputs": [
    {
     "data": {
      "text/plain": [
       "tensor([[1, 2, 2],\n",
       "        [1, 0, 0],\n",
       "        [0, 2, 0]])"
      ]
     },
     "execution_count": 24,
     "metadata": {},
     "output_type": "execute_result"
    }
   ],
   "source": [
    "#shows the larget index of the according dim\n",
    "y=x.argmax(dim=1)\n",
    "y"
   ]
  },
  {
   "cell_type": "code",
   "execution_count": null,
   "id": "65119053",
   "metadata": {},
   "outputs": [],
   "source": []
  }
 ],
 "metadata": {
  "kernelspec": {
   "display_name": "Python 3 (ipykernel)",
   "language": "python",
   "name": "python3"
  },
  "language_info": {
   "codemirror_mode": {
    "name": "ipython",
    "version": 3
   },
   "file_extension": ".py",
   "mimetype": "text/x-python",
   "name": "python",
   "nbconvert_exporter": "python",
   "pygments_lexer": "ipython3",
   "version": "3.8.8"
  }
 },
 "nbformat": 4,
 "nbformat_minor": 5
}
